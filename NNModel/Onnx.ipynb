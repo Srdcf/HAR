{
  "nbformat": 4,
  "nbformat_minor": 0,
  "metadata": {
    "colab": {
      "provenance": [],
      "authorship_tag": "ABX9TyOsnabFnByTqdtAZPcmkkiC",
      "include_colab_link": true
    },
    "kernelspec": {
      "name": "python3",
      "display_name": "Python 3"
    },
    "language_info": {
      "name": "python"
    }
  },
  "cells": [
    {
      "cell_type": "markdown",
      "metadata": {
        "id": "view-in-github",
        "colab_type": "text"
      },
      "source": [
        "<a href=\"https://colab.research.google.com/github/Srdcf/HAR/blob/main/NNModel/Onnx.ipynb\" target=\"_parent\"><img src=\"https://colab.research.google.com/assets/colab-badge.svg\" alt=\"Open In Colab\"/></a>"
      ]
    },
    {
      "cell_type": "code",
      "execution_count": null,
      "metadata": {
        "id": "ho_LgliTYS1C"
      },
      "outputs": [],
      "source": [
        "pip install onnxruntime"
      ]
    },
    {
      "cell_type": "code",
      "source": [
        "pip install tf2onnx"
      ],
      "metadata": {
        "id": "V9O-OP49Yb-M"
      },
      "execution_count": null,
      "outputs": []
    },
    {
      "cell_type": "code",
      "source": [
        "import tensorflow as tf\n",
        "\n",
        "# Carregar o modelo Keras\n",
        "modelo = tf.keras.models.load_model('/content/harModel.h5')\n",
        "\n",
        "# Converter o modelo Keras para ONNX\n",
        "tf.saved_model.save(modelo, \"/content/drive/MyDrive/saved_model\")\n",
        "!python -m tf2onnx.convert --saved-model /content/drive/MyDrive/saved_model --output /content/drive/MyDrive/harModel.onnx"
      ],
      "metadata": {
        "id": "P3twUflyYh8Y"
      },
      "execution_count": null,
      "outputs": []
    }
  ]
}